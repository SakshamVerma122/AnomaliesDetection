{
 "cells": [
  {
   "cell_type": "markdown",
   "id": "1bcf28a7",
   "metadata": {},
   "source": [
    "### Unsupervised Anomaly detection in Timeseries data"
   ]
  },
  {
   "cell_type": "code",
   "execution_count": 1,
   "id": "049ba46f",
   "metadata": {},
   "outputs": [],
   "source": [
    "import pandas as pd\n",
    "import numpy as np\n",
    "import matplotlib.pyplot as plt\n",
    "import seaborn as sns"
   ]
  },
  {
   "cell_type": "code",
   "execution_count": 2,
   "id": "712b718e",
   "metadata": {},
   "outputs": [
    {
     "name": "stderr",
     "output_type": "stream",
     "text": [
      "C:\\Users\\saksh\\anaconda3\\envs\\myenv\\lib\\site-packages\\openpyxl\\worksheet\\_reader.py:312: UserWarning: Unknown extension is not supported and will be removed\n",
      "  warn(msg)\n"
     ]
    }
   ],
   "source": [
    "data = pd.read_excel('data.xlsx',engine='openpyxl')"
   ]
  },
  {
   "cell_type": "code",
   "execution_count": 5,
   "id": "13ba2499",
   "metadata": {},
   "outputs": [
    {
     "data": {
      "text/plain": [
       "Not Connect    723\n",
       "I/O Timeout    470\n",
       "23.53          309\n",
       "900.12         161\n",
       "879.55         159\n",
       "              ... \n",
       "152.08           1\n",
       "339.11           1\n",
       "74.63            1\n",
       "499.15           1\n",
       "568.03           1\n",
       "Name: Cyclone_Inlet_Gas_Temp, Length: 39736, dtype: int64"
      ]
     },
     "execution_count": 5,
     "metadata": {},
     "output_type": "execute_result"
    }
   ],
   "source": [
    "data[\"Cyclone_Inlet_Gas_Temp\"].value_counts()"
   ]
  },
  {
   "cell_type": "code",
   "execution_count": null,
   "id": "f4f51a7f",
   "metadata": {},
   "outputs": [],
   "source": [
    "plot(kind = \"bar\")"
   ]
  },
  {
   "cell_type": "markdown",
   "id": "2984b1c6",
   "metadata": {},
   "source": [
    "#### EDA"
   ]
  },
  {
   "cell_type": "code",
   "execution_count": 216,
   "id": "5335fa5f",
   "metadata": {},
   "outputs": [
    {
     "data": {
      "text/plain": [
       "(377719, 7)"
      ]
     },
     "execution_count": 216,
     "metadata": {},
     "output_type": "execute_result"
    }
   ],
   "source": [
    "# Knowing shape of the data\n",
    "data.shape"
   ]
  },
  {
   "cell_type": "code",
   "execution_count": 217,
   "id": "40629a83",
   "metadata": {},
   "outputs": [
    {
     "data": {
      "text/html": [
       "<div>\n",
       "<style scoped>\n",
       "    .dataframe tbody tr th:only-of-type {\n",
       "        vertical-align: middle;\n",
       "    }\n",
       "\n",
       "    .dataframe tbody tr th {\n",
       "        vertical-align: top;\n",
       "    }\n",
       "\n",
       "    .dataframe thead th {\n",
       "        text-align: right;\n",
       "    }\n",
       "</style>\n",
       "<table border=\"1\" class=\"dataframe\">\n",
       "  <thead>\n",
       "    <tr style=\"text-align: right;\">\n",
       "      <th></th>\n",
       "      <th>time</th>\n",
       "      <th>Cyclone_Inlet_Gas_Temp</th>\n",
       "      <th>Cyclone_Material_Temp</th>\n",
       "      <th>Cyclone_Outlet_Gas_draft</th>\n",
       "      <th>Cyclone_cone_draft</th>\n",
       "      <th>Cyclone_Gas_Outlet_Temp</th>\n",
       "      <th>Cyclone_Inlet_Draft</th>\n",
       "    </tr>\n",
       "  </thead>\n",
       "  <tbody>\n",
       "    <tr>\n",
       "      <th>239469</th>\n",
       "      <td>2019-04-14 11:35:00</td>\n",
       "      <td>907.1</td>\n",
       "      <td>886.87</td>\n",
       "      <td>-154.65</td>\n",
       "      <td>-125</td>\n",
       "      <td>925.52</td>\n",
       "      <td>-117.44</td>\n",
       "    </tr>\n",
       "    <tr>\n",
       "      <th>230277</th>\n",
       "      <td>2019-03-13 13:35:00</td>\n",
       "      <td>25.92</td>\n",
       "      <td>22.44</td>\n",
       "      <td>-12.46</td>\n",
       "      <td>-9.31</td>\n",
       "      <td>28.88</td>\n",
       "      <td>-14.73</td>\n",
       "    </tr>\n",
       "    <tr>\n",
       "      <th>330230</th>\n",
       "      <td>2020-02-24 14:55:00</td>\n",
       "      <td>882.42</td>\n",
       "      <td>886.78</td>\n",
       "      <td>-240.97</td>\n",
       "      <td>-233.94</td>\n",
       "      <td>881.23</td>\n",
       "      <td>-190.51</td>\n",
       "    </tr>\n",
       "    <tr>\n",
       "      <th>366531</th>\n",
       "      <td>2020-06-29 16:00:00</td>\n",
       "      <td>899</td>\n",
       "      <td>913.63</td>\n",
       "      <td>-271.96</td>\n",
       "      <td>-250.91</td>\n",
       "      <td>894.74</td>\n",
       "      <td>-219.6</td>\n",
       "    </tr>\n",
       "    <tr>\n",
       "      <th>249246</th>\n",
       "      <td>2019-05-18 10:20:00</td>\n",
       "      <td>925.56</td>\n",
       "      <td>1001.16</td>\n",
       "      <td>-209.53</td>\n",
       "      <td>-180.88</td>\n",
       "      <td>957.42</td>\n",
       "      <td>-155.76</td>\n",
       "    </tr>\n",
       "  </tbody>\n",
       "</table>\n",
       "</div>"
      ],
      "text/plain": [
       "                      time Cyclone_Inlet_Gas_Temp Cyclone_Material_Temp  \\\n",
       "239469 2019-04-14 11:35:00                  907.1                886.87   \n",
       "230277 2019-03-13 13:35:00                  25.92                 22.44   \n",
       "330230 2020-02-24 14:55:00                 882.42                886.78   \n",
       "366531 2020-06-29 16:00:00                    899                913.63   \n",
       "249246 2019-05-18 10:20:00                 925.56               1001.16   \n",
       "\n",
       "       Cyclone_Outlet_Gas_draft Cyclone_cone_draft Cyclone_Gas_Outlet_Temp  \\\n",
       "239469                  -154.65               -125                  925.52   \n",
       "230277                   -12.46              -9.31                   28.88   \n",
       "330230                  -240.97            -233.94                  881.23   \n",
       "366531                  -271.96            -250.91                  894.74   \n",
       "249246                  -209.53            -180.88                  957.42   \n",
       "\n",
       "       Cyclone_Inlet_Draft  \n",
       "239469             -117.44  \n",
       "230277              -14.73  \n",
       "330230             -190.51  \n",
       "366531              -219.6  \n",
       "249246             -155.76  "
      ]
     },
     "execution_count": 217,
     "metadata": {},
     "output_type": "execute_result"
    }
   ],
   "source": [
    "# Getting to know data\n",
    "data.sample(5)"
   ]
  },
  {
   "cell_type": "code",
   "execution_count": 218,
   "id": "079a35ae",
   "metadata": {},
   "outputs": [
    {
     "data": {
      "text/plain": [
       "time                        0\n",
       "Cyclone_Inlet_Gas_Temp      0\n",
       "Cyclone_Material_Temp       0\n",
       "Cyclone_Outlet_Gas_draft    0\n",
       "Cyclone_cone_draft          0\n",
       "Cyclone_Gas_Outlet_Temp     0\n",
       "Cyclone_Inlet_Draft         0\n",
       "dtype: int64"
      ]
     },
     "execution_count": 218,
     "metadata": {},
     "output_type": "execute_result"
    }
   ],
   "source": [
    "# Checking null values\n",
    "data.isnull().sum()"
   ]
  },
  {
   "cell_type": "code",
   "execution_count": 219,
   "id": "aa3943bf",
   "metadata": {},
   "outputs": [
    {
     "name": "stdout",
     "output_type": "stream",
     "text": [
      "<class 'pandas.core.frame.DataFrame'>\n",
      "RangeIndex: 377719 entries, 0 to 377718\n",
      "Data columns (total 7 columns):\n",
      " #   Column                    Non-Null Count   Dtype         \n",
      "---  ------                    --------------   -----         \n",
      " 0   time                      377719 non-null  datetime64[ns]\n",
      " 1   Cyclone_Inlet_Gas_Temp    377719 non-null  object        \n",
      " 2   Cyclone_Material_Temp     377719 non-null  object        \n",
      " 3   Cyclone_Outlet_Gas_draft  377719 non-null  object        \n",
      " 4   Cyclone_cone_draft        377719 non-null  object        \n",
      " 5   Cyclone_Gas_Outlet_Temp   377719 non-null  object        \n",
      " 6   Cyclone_Inlet_Draft       377719 non-null  object        \n",
      "dtypes: datetime64[ns](1), object(6)\n",
      "memory usage: 20.2+ MB\n"
     ]
    }
   ],
   "source": [
    "# knowing about dtypes, not null values\n",
    "data.info()"
   ]
  },
  {
   "cell_type": "code",
   "execution_count": 220,
   "id": "c5d2564a",
   "metadata": {},
   "outputs": [],
   "source": [
    "# Converting each data value to float as it will help in precitions\n",
    "columns = [\"Cyclone_Inlet_Gas_Temp\",\"Cyclone_Material_Temp\",\"Cyclone_Outlet_Gas_draft\",\"Cyclone_cone_draft\",\"Cyclone_Gas_Outlet_Temp\", \"Cyclone_Inlet_Draft\"]\n",
    "for i in columns:\n",
    "    data[i] = pd.to_numeric(data[i], errors='coerce')"
   ]
  },
  {
   "cell_type": "code",
   "execution_count": 221,
   "id": "9f4bfd90",
   "metadata": {},
   "outputs": [
    {
     "name": "stdout",
     "output_type": "stream",
     "text": [
      "<class 'pandas.core.frame.DataFrame'>\n",
      "RangeIndex: 377719 entries, 0 to 377718\n",
      "Data columns (total 7 columns):\n",
      " #   Column                    Non-Null Count   Dtype         \n",
      "---  ------                    --------------   -----         \n",
      " 0   time                      377719 non-null  datetime64[ns]\n",
      " 1   Cyclone_Inlet_Gas_Temp    376399 non-null  float64       \n",
      " 2   Cyclone_Material_Temp     376128 non-null  float64       \n",
      " 3   Cyclone_Outlet_Gas_draft  376398 non-null  float64       \n",
      " 4   Cyclone_cone_draft        376399 non-null  float64       \n",
      " 5   Cyclone_Gas_Outlet_Temp   376398 non-null  float64       \n",
      " 6   Cyclone_Inlet_Draft       376397 non-null  float64       \n",
      "dtypes: datetime64[ns](1), float64(6)\n",
      "memory usage: 20.2 MB\n"
     ]
    }
   ],
   "source": [
    "# Checking if converted or not \"dtypes\"\n",
    "data.info()"
   ]
  },
  {
   "cell_type": "code",
   "execution_count": 222,
   "id": "39a73b72",
   "metadata": {},
   "outputs": [
    {
     "data": {
      "text/html": [
       "<div>\n",
       "<style scoped>\n",
       "    .dataframe tbody tr th:only-of-type {\n",
       "        vertical-align: middle;\n",
       "    }\n",
       "\n",
       "    .dataframe tbody tr th {\n",
       "        vertical-align: top;\n",
       "    }\n",
       "\n",
       "    .dataframe thead th {\n",
       "        text-align: right;\n",
       "    }\n",
       "</style>\n",
       "<table border=\"1\" class=\"dataframe\">\n",
       "  <thead>\n",
       "    <tr style=\"text-align: right;\">\n",
       "      <th></th>\n",
       "      <th>time</th>\n",
       "      <th>Cyclone_Inlet_Gas_Temp</th>\n",
       "      <th>Cyclone_Material_Temp</th>\n",
       "      <th>Cyclone_Outlet_Gas_draft</th>\n",
       "      <th>Cyclone_cone_draft</th>\n",
       "      <th>Cyclone_Gas_Outlet_Temp</th>\n",
       "      <th>Cyclone_Inlet_Draft</th>\n",
       "    </tr>\n",
       "  </thead>\n",
       "  <tbody>\n",
       "    <tr>\n",
       "      <th>count</th>\n",
       "      <td>377719</td>\n",
       "      <td>376399.000000</td>\n",
       "      <td>376128.000000</td>\n",
       "      <td>376398.000000</td>\n",
       "      <td>376399.000000</td>\n",
       "      <td>376398.000000</td>\n",
       "      <td>376397.000000</td>\n",
       "    </tr>\n",
       "    <tr>\n",
       "      <th>mean</th>\n",
       "      <td>2018-10-20 02:10:21.647840</td>\n",
       "      <td>727.348549</td>\n",
       "      <td>750.830483</td>\n",
       "      <td>-177.820685</td>\n",
       "      <td>-164.572619</td>\n",
       "      <td>715.759972</td>\n",
       "      <td>-141.302857</td>\n",
       "    </tr>\n",
       "    <tr>\n",
       "      <th>min</th>\n",
       "      <td>2017-01-01 00:00:00</td>\n",
       "      <td>0.000000</td>\n",
       "      <td>-185.000000</td>\n",
       "      <td>-456.660000</td>\n",
       "      <td>-459.310000</td>\n",
       "      <td>13.790000</td>\n",
       "      <td>-396.370000</td>\n",
       "    </tr>\n",
       "    <tr>\n",
       "      <th>25%</th>\n",
       "      <td>2017-11-24 21:07:30</td>\n",
       "      <td>856.270000</td>\n",
       "      <td>867.667500</td>\n",
       "      <td>-247.190000</td>\n",
       "      <td>-226.770000</td>\n",
       "      <td>801.960000</td>\n",
       "      <td>-193.510000</td>\n",
       "    </tr>\n",
       "    <tr>\n",
       "      <th>50%</th>\n",
       "      <td>2018-10-19 18:10:00</td>\n",
       "      <td>882.380000</td>\n",
       "      <td>913.360000</td>\n",
       "      <td>-215.260000</td>\n",
       "      <td>-198.560000</td>\n",
       "      <td>871.525000</td>\n",
       "      <td>-169.460000</td>\n",
       "    </tr>\n",
       "    <tr>\n",
       "      <th>75%</th>\n",
       "      <td>2019-09-13 15:12:30</td>\n",
       "      <td>901.110000</td>\n",
       "      <td>943.660000</td>\n",
       "      <td>-170.130000</td>\n",
       "      <td>-143.640000</td>\n",
       "      <td>899.300000</td>\n",
       "      <td>-136.290000</td>\n",
       "    </tr>\n",
       "    <tr>\n",
       "      <th>max</th>\n",
       "      <td>2020-08-07 12:15:00</td>\n",
       "      <td>1157.630000</td>\n",
       "      <td>1375.000000</td>\n",
       "      <td>40.270000</td>\n",
       "      <td>488.860000</td>\n",
       "      <td>1375.000000</td>\n",
       "      <td>41.640000</td>\n",
       "    </tr>\n",
       "    <tr>\n",
       "      <th>std</th>\n",
       "      <td>NaN</td>\n",
       "      <td>328.664814</td>\n",
       "      <td>350.921068</td>\n",
       "      <td>99.147236</td>\n",
       "      <td>90.103023</td>\n",
       "      <td>325.346446</td>\n",
       "      <td>77.615576</td>\n",
       "    </tr>\n",
       "  </tbody>\n",
       "</table>\n",
       "</div>"
      ],
      "text/plain": [
       "                             time  Cyclone_Inlet_Gas_Temp  \\\n",
       "count                      377719           376399.000000   \n",
       "mean   2018-10-20 02:10:21.647840              727.348549   \n",
       "min           2017-01-01 00:00:00                0.000000   \n",
       "25%           2017-11-24 21:07:30              856.270000   \n",
       "50%           2018-10-19 18:10:00              882.380000   \n",
       "75%           2019-09-13 15:12:30              901.110000   \n",
       "max           2020-08-07 12:15:00             1157.630000   \n",
       "std                           NaN              328.664814   \n",
       "\n",
       "       Cyclone_Material_Temp  Cyclone_Outlet_Gas_draft  Cyclone_cone_draft  \\\n",
       "count          376128.000000             376398.000000       376399.000000   \n",
       "mean              750.830483               -177.820685         -164.572619   \n",
       "min              -185.000000               -456.660000         -459.310000   \n",
       "25%               867.667500               -247.190000         -226.770000   \n",
       "50%               913.360000               -215.260000         -198.560000   \n",
       "75%               943.660000               -170.130000         -143.640000   \n",
       "max              1375.000000                 40.270000          488.860000   \n",
       "std               350.921068                 99.147236           90.103023   \n",
       "\n",
       "       Cyclone_Gas_Outlet_Temp  Cyclone_Inlet_Draft  \n",
       "count            376398.000000        376397.000000  \n",
       "mean                715.759972          -141.302857  \n",
       "min                  13.790000          -396.370000  \n",
       "25%                 801.960000          -193.510000  \n",
       "50%                 871.525000          -169.460000  \n",
       "75%                 899.300000          -136.290000  \n",
       "max                1375.000000            41.640000  \n",
       "std                 325.346446            77.615576  "
      ]
     },
     "execution_count": 222,
     "metadata": {},
     "output_type": "execute_result"
    }
   ],
   "source": [
    "data.describe(datetime_is_numeric=True)"
   ]
  },
  {
   "cell_type": "markdown",
   "id": "a902728e",
   "metadata": {},
   "source": [
    "### Univariate analysis"
   ]
  },
  {
   "cell_type": "code",
   "execution_count": 223,
   "id": "482ca59c",
   "metadata": {},
   "outputs": [
    {
     "data": {
      "image/png": "[encoded data removed]",
      "text/plain": [
       "<Figure size 576x432 with 1 Axes>"
      ]
     },
     "metadata": {
      "needs_background": "light"
     },
     "output_type": "display_data"
    }
   ],
   "source": [
    "# just to get an Idea of anomalies according to value variation\n",
    "# Plotting the time series data\n",
    "plt.figure(figsize=(8, 6))  # Optional: Adjust the figure size\n",
    "plt.plot(principal_df.time, principal_df.PC1, marker='o', linestyle='-')\n",
    "plt.xlabel('Time')\n",
    "plt.ylabel('Data')\n",
    "plt.title('Time Series Data')\n",
    "plt.grid(True)  # Optional: Add gridlines\n",
    "plt.show()"
   ]
  },
  {
   "cell_type": "code",
   "execution_count": 224,
   "id": "4bfe4eb5",
   "metadata": {},
   "outputs": [
    {
     "data": {
      "image/png": "[encoded data removed]",
      "text/plain": [
       "<Figure size 576x432 with 1 Axes>"
      ]
     },
     "metadata": {
      "needs_background": "light"
     },
     "output_type": "display_data"
    }
   ],
   "source": [
    "# just to get an Idea of anomalies according to value variation\n",
    "# Plotting the time series data\n",
    "plt.figure(figsize=(8, 6))  # Optional: Adjust the figure size\n",
    "plt.plot(principal_df.time, principal_df.PC2, marker='o', linestyle='-')\n",
    "plt.xlabel('Time')\n",
    "plt.ylabel('Data')\n",
    "plt.title('Time Series Data')\n",
    "plt.grid(True)  # Optional: Add gridlines\n",
    "plt.show()"
   ]
  },
  {
   "cell_type": "code",
   "execution_count": 225,
   "id": "8dd4882f",
   "metadata": {},
   "outputs": [
    {
     "data": {
      "image/png": "[encoded data removed]",
      "text/plain": [
       "<Figure size 576x432 with 1 Axes>"
      ]
     },
     "metadata": {
      "needs_background": "light"
     },
     "output_type": "display_data"
    }
   ],
   "source": [
    "# just to get an Idea of anomalies according to value variation\n",
    "# Plotting the time series data\n",
    "plt.figure(figsize=(8, 6))  # Optional: Adjust the figure size\n",
    "plt.plot(principal_df.time, principal_df.PC3, marker='o', linestyle='-')\n",
    "plt.xlabel('Time')\n",
    "plt.ylabel('Data')\n",
    "plt.title('Time Series Data')\n",
    "plt.grid(True)  # Optional: Add gridlines\n",
    "plt.show()"
   ]
  },
  {
   "cell_type": "code",
   "execution_count": 226,
   "id": "24a613a1",
   "metadata": {},
   "outputs": [
    {
     "data": {
      "image/png": "[encoded data removed]",
      "text/plain": [
       "<Figure size 432x288 with 1 Axes>"
      ]
     },
     "metadata": {
      "needs_background": "light"
     },
     "output_type": "display_data"
    },
    {
     "data": {
      "image/png": "[encoded data removed]",
      "text/plain": [
       "<Figure size 432x288 with 1 Axes>"
      ]
     },
     "metadata": {
      "needs_background": "light"
     },
     "output_type": "display_data"
    },
    {
     "data": {
      "image/png": "[encoded data removed]",
      "text/plain": [
       "<Figure size 432x288 with 1 Axes>"
      ]
     },
     "metadata": {
      "needs_background": "light"
     },
     "output_type": "display_data"
    }
   ],
   "source": [
    "# histograms\n",
    "columns = [\"PC1\",\"PC2\",\"PC3\"]\n",
    "for i in columns:\n",
    "    sns.histplot(principal_df[i], kde=True)\n",
    "    plt.show()"
   ]
  },
  {
   "cell_type": "code",
   "execution_count": 227,
   "id": "4a3eccba",
   "metadata": {},
   "outputs": [
    {
     "name": "stderr",
     "output_type": "stream",
     "text": [
      "C:\\Users\\saksh\\anaconda3\\envs\\myenv\\lib\\site-packages\\seaborn\\_decorators.py:43: FutureWarning: Pass the following variable as a keyword arg: x. From version 0.12, the only valid positional argument will be `data`, and passing other arguments without an explicit keyword will result in an error or misinterpretation.\n",
      "  FutureWarning\n"
     ]
    },
    {
     "data": {
      "image/png": "[encoded data removed]",
      "text/plain": [
       "<Figure size 432x288 with 1 Axes>"
      ]
     },
     "metadata": {
      "needs_background": "light"
     },
     "output_type": "display_data"
    },
    {
     "name": "stderr",
     "output_type": "stream",
     "text": [
      "C:\\Users\\saksh\\anaconda3\\envs\\myenv\\lib\\site-packages\\seaborn\\_decorators.py:43: FutureWarning: Pass the following variable as a keyword arg: x. From version 0.12, the only valid positional argument will be `data`, and passing other arguments without an explicit keyword will result in an error or misinterpretation.\n",
      "  FutureWarning\n"
     ]
    },
    {
     "data": {
      "image/png": "[encoded data removed]",
      "text/plain": [
       "<Figure size 432x288 with 1 Axes>"
      ]
     },
     "metadata": {
      "needs_background": "light"
     },
     "output_type": "display_data"
    },
    {
     "name": "stderr",
     "output_type": "stream",
     "text": [
      "C:\\Users\\saksh\\anaconda3\\envs\\myenv\\lib\\site-packages\\seaborn\\_decorators.py:43: FutureWarning: Pass the following variable as a keyword arg: x. From version 0.12, the only valid positional argument will be `data`, and passing other arguments without an explicit keyword will result in an error or misinterpretation.\n",
      "  FutureWarning\n"
     ]
    },
    {
     "data": {
      "image/png": "[encoded data removed]",
      "text/plain": [
       "<Figure size 432x288 with 1 Axes>"
      ]
     },
     "metadata": {
      "needs_background": "light"
     },
     "output_type": "display_data"
    }
   ],
   "source": [
    "columns = [\"PC1\",\"PC2\",\"PC3\"]\n",
    "for i in columns:\n",
    "    # Boxplot\n",
    "    sns.boxplot(principal_df[i])\n",
    "    # Set labels and title\n",
    "    plt.xlabel('Data')\n",
    "    plt.ylabel('Values')\n",
    "    plt.title('Box Plot')\n",
    "    plt.show()"
   ]
  },
  {
   "cell_type": "code",
   "execution_count": 228,
   "id": "f7b63f8a",
   "metadata": {},
   "outputs": [],
   "source": [
    "# Multivariate analysis"
   ]
  },
  {
   "cell_type": "code",
   "execution_count": 229,
   "id": "07111973",
   "metadata": {},
   "outputs": [
    {
     "data": {
      "image/png": "[encoded data removed]",
      "text/plain": [
       "<Figure size 432x288 with 2 Axes>"
      ]
     },
     "metadata": {
      "needs_background": "light"
     },
     "output_type": "display_data"
    }
   ],
   "source": [
    "import matplotlib.pyplot as plt\n",
    "from mpl_toolkits import mplot3d\n",
    "\n",
    "fig = plt.figure()\n",
    "ax = plt.axes(projection='3d')\n",
    "\n",
    "# Create the scatter plot\n",
    "scatter = ax.scatter3D(principal_df[\"PC1\"], principal_df[\"PC2\"], principal_df[\"PC3\"], c=principal_df[\"PC1\"], cmap='viridis')\n",
    "\n",
    "# Set labels and title\n",
    "ax.set_xlabel('PC1')\n",
    "ax.set_ylabel('PC2')\n",
    "ax.set_zlabel('PC3')\n",
    "ax.set_title('3D Scatter Plot')\n",
    "\n",
    "# Add a color bar\n",
    "fig.colorbar(scatter, label='Z Values')\n",
    "\n",
    "# Show the plot\n",
    "plt.show()\n"
   ]
  },
  {
   "cell_type": "code",
   "execution_count": 230,
   "id": "1dee36d4",
   "metadata": {},
   "outputs": [
    {
     "data": {
      "text/html": [
       "<div>\n",
       "<style scoped>\n",
       "    .dataframe tbody tr th:only-of-type {\n",
       "        vertical-align: middle;\n",
       "    }\n",
       "\n",
       "    .dataframe tbody tr th {\n",
       "        vertical-align: top;\n",
       "    }\n",
       "\n",
       "    .dataframe thead th {\n",
       "        text-align: right;\n",
       "    }\n",
       "</style>\n",
       "<table border=\"1\" class=\"dataframe\">\n",
       "  <thead>\n",
       "    <tr style=\"text-align: right;\">\n",
       "      <th></th>\n",
       "      <th>Cyclone_Inlet_Gas_Temp</th>\n",
       "      <th>Cyclone_Material_Temp</th>\n",
       "      <th>Cyclone_Outlet_Gas_draft</th>\n",
       "      <th>Cyclone_cone_draft</th>\n",
       "      <th>Cyclone_Gas_Outlet_Temp</th>\n",
       "      <th>Cyclone_Inlet_Draft</th>\n",
       "    </tr>\n",
       "  </thead>\n",
       "  <tbody>\n",
       "    <tr>\n",
       "      <th>Cyclone_Inlet_Gas_Temp</th>\n",
       "      <td>1.000000</td>\n",
       "      <td>0.964728</td>\n",
       "      <td>-0.903032</td>\n",
       "      <td>-0.899646</td>\n",
       "      <td>0.990970</td>\n",
       "      <td>-0.901817</td>\n",
       "    </tr>\n",
       "    <tr>\n",
       "      <th>Cyclone_Material_Temp</th>\n",
       "      <td>0.964728</td>\n",
       "      <td>1.000000</td>\n",
       "      <td>-0.880614</td>\n",
       "      <td>-0.877584</td>\n",
       "      <td>0.957382</td>\n",
       "      <td>-0.879356</td>\n",
       "    </tr>\n",
       "    <tr>\n",
       "      <th>Cyclone_Outlet_Gas_draft</th>\n",
       "      <td>-0.903032</td>\n",
       "      <td>-0.880614</td>\n",
       "      <td>1.000000</td>\n",
       "      <td>0.968425</td>\n",
       "      <td>-0.898729</td>\n",
       "      <td>0.995442</td>\n",
       "    </tr>\n",
       "    <tr>\n",
       "      <th>Cyclone_cone_draft</th>\n",
       "      <td>-0.899646</td>\n",
       "      <td>-0.877584</td>\n",
       "      <td>0.968425</td>\n",
       "      <td>1.000000</td>\n",
       "      <td>-0.893098</td>\n",
       "      <td>0.969447</td>\n",
       "    </tr>\n",
       "    <tr>\n",
       "      <th>Cyclone_Gas_Outlet_Temp</th>\n",
       "      <td>0.990970</td>\n",
       "      <td>0.957382</td>\n",
       "      <td>-0.898729</td>\n",
       "      <td>-0.893098</td>\n",
       "      <td>1.000000</td>\n",
       "      <td>-0.898523</td>\n",
       "    </tr>\n",
       "    <tr>\n",
       "      <th>Cyclone_Inlet_Draft</th>\n",
       "      <td>-0.901817</td>\n",
       "      <td>-0.879356</td>\n",
       "      <td>0.995442</td>\n",
       "      <td>0.969447</td>\n",
       "      <td>-0.898523</td>\n",
       "      <td>1.000000</td>\n",
       "    </tr>\n",
       "  </tbody>\n",
       "</table>\n",
       "</div>"
      ],
      "text/plain": [
       "                          Cyclone_Inlet_Gas_Temp  Cyclone_Material_Temp  \\\n",
       "Cyclone_Inlet_Gas_Temp                  1.000000               0.964728   \n",
       "Cyclone_Material_Temp                   0.964728               1.000000   \n",
       "Cyclone_Outlet_Gas_draft               -0.903032              -0.880614   \n",
       "Cyclone_cone_draft                     -0.899646              -0.877584   \n",
       "Cyclone_Gas_Outlet_Temp                 0.990970               0.957382   \n",
       "Cyclone_Inlet_Draft                    -0.901817              -0.879356   \n",
       "\n",
       "                          Cyclone_Outlet_Gas_draft  Cyclone_cone_draft  \\\n",
       "Cyclone_Inlet_Gas_Temp                   -0.903032           -0.899646   \n",
       "Cyclone_Material_Temp                    -0.880614           -0.877584   \n",
       "Cyclone_Outlet_Gas_draft                  1.000000            0.968425   \n",
       "Cyclone_cone_draft                        0.968425            1.000000   \n",
       "Cyclone_Gas_Outlet_Temp                  -0.898729           -0.893098   \n",
       "Cyclone_Inlet_Draft                       0.995442            0.969447   \n",
       "\n",
       "                          Cyclone_Gas_Outlet_Temp  Cyclone_Inlet_Draft  \n",
       "Cyclone_Inlet_Gas_Temp                   0.990970            -0.901817  \n",
       "Cyclone_Material_Temp                    0.957382            -0.879356  \n",
       "Cyclone_Outlet_Gas_draft                -0.898729             0.995442  \n",
       "Cyclone_cone_draft                      -0.893098             0.969447  \n",
       "Cyclone_Gas_Outlet_Temp                  1.000000            -0.898523  \n",
       "Cyclone_Inlet_Draft                     -0.898523             1.000000  "
      ]
     },
     "execution_count": 230,
     "metadata": {},
     "output_type": "execute_result"
    }
   ],
   "source": [
    "# All the columns are highly correlated hence need to drop some\n",
    "data.corr()"
   ]
  },
  {
   "cell_type": "code",
   "execution_count": 231,
   "id": "10af7881",
   "metadata": {},
   "outputs": [
    {
     "name": "stdout",
     "output_type": "stream",
     "text": [
      "Explained Variance Ratios:\n",
      "[0.93774293 0.04531948 0.00815167]\n",
      "Principal Components:\n",
      "        PC1       PC2       PC3                time\n",
      "0 -0.699684  0.366076 -0.027508 2017-01-01 00:00:00\n",
      "1 -0.717177  0.419964 -0.011654 2017-01-01 00:05:00\n",
      "2 -0.615755  0.533587 -0.006347 2017-01-01 00:10:00\n",
      "3 -0.631301  0.516151 -0.016511 2017-01-01 00:15:00\n",
      "4 -0.671945  0.567009 -0.007481 2017-01-01 00:20:00\n"
     ]
    }
   ],
   "source": [
    "# Applying PCA for Feature extraction\n",
    "from sklearn.decomposition import PCA\n",
    "from sklearn.preprocessing import StandardScaler\n",
    "\n",
    "# Drop rows with missing values\n",
    "data = data.dropna()\n",
    "\n",
    "# Standardize the features\n",
    "scaler = StandardScaler()\n",
    "scaled_features = scaler.fit_transform(data[[\"Cyclone_Inlet_Gas_Temp\",\"Cyclone_Material_Temp\",\"Cyclone_Outlet_Gas_draft\",\"Cyclone_cone_draft\",\"Cyclone_Gas_Outlet_Temp\", \"Cyclone_Inlet_Draft\"]])\n",
    "\n",
    "# Perform PCA\n",
    "pca = PCA(n_components=3)\n",
    "principal_components = pca.fit_transform(scaled_features)\n",
    "\n",
    "# Create a new DataFrame for the principal components\n",
    "principal_df = pd.DataFrame(data=principal_components, columns=[\"PC1\", \"PC2\",\"PC3\"])\n",
    "principal_df[\"time\"] = data[\"time\"]\n",
    "\n",
    "# Print the explained variance ratios\n",
    "print(\"Explained Variance Ratios:\")\n",
    "print(pca.explained_variance_ratio_)\n",
    "\n",
    "# Print the principal components DataFrame\n",
    "print(\"Principal Components:\")\n",
    "print(principal_df.head())\n"
   ]
  },
  {
   "cell_type": "code",
   "execution_count": 232,
   "id": "cdfe3a5d",
   "metadata": {},
   "outputs": [
    {
     "data": {
      "text/html": [
       "<div>\n",
       "<style scoped>\n",
       "    .dataframe tbody tr th:only-of-type {\n",
       "        vertical-align: middle;\n",
       "    }\n",
       "\n",
       "    .dataframe tbody tr th {\n",
       "        vertical-align: top;\n",
       "    }\n",
       "\n",
       "    .dataframe thead th {\n",
       "        text-align: right;\n",
       "    }\n",
       "</style>\n",
       "<table border=\"1\" class=\"dataframe\">\n",
       "  <thead>\n",
       "    <tr style=\"text-align: right;\">\n",
       "      <th></th>\n",
       "      <th>PC1</th>\n",
       "      <th>PC2</th>\n",
       "      <th>PC3</th>\n",
       "    </tr>\n",
       "  </thead>\n",
       "  <tbody>\n",
       "    <tr>\n",
       "      <th>PC1</th>\n",
       "      <td>1.0</td>\n",
       "      <td>0.0</td>\n",
       "      <td>0.0</td>\n",
       "    </tr>\n",
       "    <tr>\n",
       "      <th>PC2</th>\n",
       "      <td>0.0</td>\n",
       "      <td>1.0</td>\n",
       "      <td>-0.0</td>\n",
       "    </tr>\n",
       "    <tr>\n",
       "      <th>PC3</th>\n",
       "      <td>0.0</td>\n",
       "      <td>-0.0</td>\n",
       "      <td>1.0</td>\n",
       "    </tr>\n",
       "  </tbody>\n",
       "</table>\n",
       "</div>"
      ],
      "text/plain": [
       "     PC1  PC2  PC3\n",
       "PC1  1.0  0.0  0.0\n",
       "PC2  0.0  1.0 -0.0\n",
       "PC3  0.0 -0.0  1.0"
      ]
     },
     "execution_count": 232,
     "metadata": {},
     "output_type": "execute_result"
    }
   ],
   "source": [
    "np.round(principal_df.corr(),2)"
   ]
  },
  {
   "cell_type": "markdown",
   "id": "7761934d",
   "metadata": {},
   "source": [
    "### Models"
   ]
  },
  {
   "cell_type": "markdown",
   "id": "8b6ba384",
   "metadata": {},
   "source": [
    "##### k-means"
   ]
  },
  {
   "cell_type": "code",
   "execution_count": 233,
   "id": "89120fa9",
   "metadata": {},
   "outputs": [
    {
     "name": "stdout",
     "output_type": "stream",
     "text": [
      "Best Parameters: {'init': 'k-means++', 'max_iter': 50, 'n_clusters': 15, 'n_init': 10}\n",
      "Best Score: -5255.705421313431\n"
     ]
    }
   ],
   "source": [
    "from sklearn.cluster import KMeans\n",
    "from sklearn.model_selection import GridSearchCV\n",
    "\n",
    "# Define the K-means model\n",
    "kmeans = KMeans()\n",
    "\n",
    "# Define the parameter grid to search\n",
    "param_grid = {\n",
    "    'n_clusters': [5, 10,15] , # Number of clusters\n",
    "    'init': ['k-means++', 'random'] , # Initialization method\n",
    "    'n_init': [10,20,30],  # Number of times the algorithm will be run with different centroids\n",
    "    'max_iter': [50]  # Maximum number of iterations\n",
    "}\n",
    "\n",
    "# Perform grid search with cross-validation\n",
    "grid_search = GridSearchCV(estimator=kmeans, param_grid=param_grid, cv=5)\n",
    "grid_search.fit(principal_df[[\"PC1\",\"PC2\",\"PC3\"]])\n",
    "\n",
    "# Print the best parameters and the corresponding score\n",
    "print(\"Best Parameters:\", grid_search.best_params_)\n",
    "print(\"Best Score:\", grid_search.best_score_)\n"
   ]
  },
  {
   "cell_type": "code",
   "execution_count": 251,
   "id": "c495d21a",
   "metadata": {},
   "outputs": [
    {
     "name": "stdout",
     "output_type": "stream",
     "text": [
      "Anomalies:\n",
      "             PC1       PC2       PC3                time\n",
      "17442  -2.082114 -1.279703  0.145329 2017-03-02 13:30:00\n",
      "26215  -2.360179 -0.827027 -0.111929 2017-04-02 00:35:00\n",
      "26736  -2.391699 -0.615197 -0.111819 2017-04-03 20:00:00\n",
      "35957  -2.314227 -1.146484 -0.080590 2017-05-05 20:25:00\n",
      "55121  -3.183805 -1.170052 -0.121965 2017-07-11 09:25:00\n",
      "...          ...       ...       ...                 ...\n",
      "371295 -2.085040 -1.193404  0.055755 2020-07-16 05:00:00\n",
      "371300 -2.126467 -1.222520  0.054619 2020-07-16 05:25:00\n",
      "371301 -2.136263 -1.229619  0.056397 2020-07-16 05:30:00\n",
      "371302 -2.262116 -1.341926  0.036981 2020-07-16 05:35:00\n",
      "371304 -2.110670 -1.220722  0.057714 2020-07-16 05:45:00\n",
      "\n",
      "[3762 rows x 4 columns]\n"
     ]
    }
   ],
   "source": [
    "import pandas as pd\n",
    "import numpy as np\n",
    "from sklearn.cluster import KMeans\n",
    "\n",
    "kmeans = KMeans(init='k-means++', max_iter=50, n_clusters=15, n_init=10)\n",
    "\n",
    "# Calculate the distance of each data point to its closest cluster center\n",
    "distances = kmeans.fit_transform(principal_df[[\"PC1\", \"PC2\", \"PC3\"]])\n",
    "\n",
    "# Calculate the average distance for each data point\n",
    "avg_distances = np.mean(distances, axis=1)\n",
    "\n",
    "# Create a copy of principal_df\n",
    "KMeansDistDF = principal_df.copy()\n",
    "\n",
    "# Add the average distance column to KMeansDistDF\n",
    "KMeansDistDF[\"avg_distance\"] = pd.Series(avg_distances)\n",
    "\n",
    "# Set a threshold for anomaly detection (adjust based on your dataset)\n",
    "threshold = np.percentile(avg_distances, 99)\n",
    "\n",
    "# Identify anomalies\n",
    "condition = np.where(KMeansDistDF.avg_distance > threshold)\n",
    "anomalies = principal_df.iloc[condition[0]]\n",
    "Normal = principal_df.iloc[~condition[0]]\n",
    "\n",
    "# Print the identified anomalies\n",
    "print(\"Anomalies:\")\n",
    "print(anomalies)\n"
   ]
  },
  {
   "cell_type": "code",
   "execution_count": 252,
   "id": "af4d1ac6",
   "metadata": {},
   "outputs": [
    {
     "data": {
      "text/html": [
       "<div>\n",
       "<style scoped>\n",
       "    .dataframe tbody tr th:only-of-type {\n",
       "        vertical-align: middle;\n",
       "    }\n",
       "\n",
       "    .dataframe tbody tr th {\n",
       "        vertical-align: top;\n",
       "    }\n",
       "\n",
       "    .dataframe thead th {\n",
       "        text-align: right;\n",
       "    }\n",
       "</style>\n",
       "<table border=\"1\" class=\"dataframe\">\n",
       "  <thead>\n",
       "    <tr style=\"text-align: right;\">\n",
       "      <th></th>\n",
       "      <th>PC1</th>\n",
       "      <th>PC2</th>\n",
       "      <th>PC3</th>\n",
       "      <th>time</th>\n",
       "    </tr>\n",
       "  </thead>\n",
       "  <tbody>\n",
       "    <tr>\n",
       "      <th>17442</th>\n",
       "      <td>-2.082114</td>\n",
       "      <td>-1.279703</td>\n",
       "      <td>0.145329</td>\n",
       "      <td>2017-03-02 13:30:00</td>\n",
       "    </tr>\n",
       "    <tr>\n",
       "      <th>26215</th>\n",
       "      <td>-2.360179</td>\n",
       "      <td>-0.827027</td>\n",
       "      <td>-0.111929</td>\n",
       "      <td>2017-04-02 00:35:00</td>\n",
       "    </tr>\n",
       "    <tr>\n",
       "      <th>26736</th>\n",
       "      <td>-2.391699</td>\n",
       "      <td>-0.615197</td>\n",
       "      <td>-0.111819</td>\n",
       "      <td>2017-04-03 20:00:00</td>\n",
       "    </tr>\n",
       "    <tr>\n",
       "      <th>35957</th>\n",
       "      <td>-2.314227</td>\n",
       "      <td>-1.146484</td>\n",
       "      <td>-0.080590</td>\n",
       "      <td>2017-05-05 20:25:00</td>\n",
       "    </tr>\n",
       "    <tr>\n",
       "      <th>55121</th>\n",
       "      <td>-3.183805</td>\n",
       "      <td>-1.170052</td>\n",
       "      <td>-0.121965</td>\n",
       "      <td>2017-07-11 09:25:00</td>\n",
       "    </tr>\n",
       "    <tr>\n",
       "      <th>...</th>\n",
       "      <td>...</td>\n",
       "      <td>...</td>\n",
       "      <td>...</td>\n",
       "      <td>...</td>\n",
       "    </tr>\n",
       "    <tr>\n",
       "      <th>371295</th>\n",
       "      <td>-2.085040</td>\n",
       "      <td>-1.193404</td>\n",
       "      <td>0.055755</td>\n",
       "      <td>2020-07-16 05:00:00</td>\n",
       "    </tr>\n",
       "    <tr>\n",
       "      <th>371300</th>\n",
       "      <td>-2.126467</td>\n",
       "      <td>-1.222520</td>\n",
       "      <td>0.054619</td>\n",
       "      <td>2020-07-16 05:25:00</td>\n",
       "    </tr>\n",
       "    <tr>\n",
       "      <th>371301</th>\n",
       "      <td>-2.136263</td>\n",
       "      <td>-1.229619</td>\n",
       "      <td>0.056397</td>\n",
       "      <td>2020-07-16 05:30:00</td>\n",
       "    </tr>\n",
       "    <tr>\n",
       "      <th>371302</th>\n",
       "      <td>-2.262116</td>\n",
       "      <td>-1.341926</td>\n",
       "      <td>0.036981</td>\n",
       "      <td>2020-07-16 05:35:00</td>\n",
       "    </tr>\n",
       "    <tr>\n",
       "      <th>371304</th>\n",
       "      <td>-2.110670</td>\n",
       "      <td>-1.220722</td>\n",
       "      <td>0.057714</td>\n",
       "      <td>2020-07-16 05:45:00</td>\n",
       "    </tr>\n",
       "  </tbody>\n",
       "</table>\n",
       "<p>3762 rows × 4 columns</p>\n",
       "</div>"
      ],
      "text/plain": [
       "             PC1       PC2       PC3                time\n",
       "17442  -2.082114 -1.279703  0.145329 2017-03-02 13:30:00\n",
       "26215  -2.360179 -0.827027 -0.111929 2017-04-02 00:35:00\n",
       "26736  -2.391699 -0.615197 -0.111819 2017-04-03 20:00:00\n",
       "35957  -2.314227 -1.146484 -0.080590 2017-05-05 20:25:00\n",
       "55121  -3.183805 -1.170052 -0.121965 2017-07-11 09:25:00\n",
       "...          ...       ...       ...                 ...\n",
       "371295 -2.085040 -1.193404  0.055755 2020-07-16 05:00:00\n",
       "371300 -2.126467 -1.222520  0.054619 2020-07-16 05:25:00\n",
       "371301 -2.136263 -1.229619  0.056397 2020-07-16 05:30:00\n",
       "371302 -2.262116 -1.341926  0.036981 2020-07-16 05:35:00\n",
       "371304 -2.110670 -1.220722  0.057714 2020-07-16 05:45:00\n",
       "\n",
       "[3762 rows x 4 columns]"
      ]
     },
     "execution_count": 252,
     "metadata": {},
     "output_type": "execute_result"
    }
   ],
   "source": [
    "principal_df.iloc[condition[0]]"
   ]
  },
  {
   "cell_type": "code",
   "execution_count": 241,
   "id": "310d5ea0",
   "metadata": {},
   "outputs": [
    {
     "data": {
      "image/png": "[encoded data removed]",
      "text/plain": [
       "<Figure size 432x288 with 1 Axes>"
      ]
     },
     "metadata": {
      "needs_background": "light"
     },
     "output_type": "display_data"
    }
   ],
   "source": [
    "fig = plt.figure()\n",
    "ax = plt.axes(projection='3d')\n",
    "\n",
    "# Create the scatter plot\n",
    "scatter = ax.scatter3D(Normal[\"PC1\"], Normal[\"PC2\"], Normal[\"PC3\"], c=\"blue\")\n",
    "scatter = ax.scatter3D(anomalies[\"PC1\"],anomalies[\"PC2\"],anomalies[\"PC3\"], c=\"red\")\n",
    "\n",
    "# Set labels and title\n",
    "ax.set_xlabel('PC1')\n",
    "ax.set_ylabel('PC2')\n",
    "ax.set_zlabel('PC3')\n",
    "ax.set_title('3D Scatter Plot')\n",
    "\n",
    "\n",
    "# Show the plot\n",
    "plt.show()"
   ]
  },
  {
   "cell_type": "markdown",
   "id": "26d4e78e",
   "metadata": {},
   "source": [
    "##### Isolated Forest Anamoly Detection"
   ]
  },
  {
   "cell_type": "code",
   "execution_count": 242,
   "id": "f57ce6de",
   "metadata": {},
   "outputs": [],
   "source": [
    "from sklearn.ensemble import IsolationForest\n",
    "\n",
    "# Setting time as index\n",
    "IsolatedForestdata = principal_df.drop(columns =['time'])\n",
    "\n",
    "# Creating a model\n",
    "model = IsolationForest(contamination=0.01)\n",
    "\n",
    "# Fitting the model\n",
    "model.fit(IsolatedForestdata)\n",
    "\n",
    "# Getting outliers\n",
    "prediction = model.predict(IsolatedForestdata)"
   ]
  },
  {
   "cell_type": "code",
   "execution_count": 243,
   "id": "ee4a3cac",
   "metadata": {},
   "outputs": [
    {
     "data": {
      "text/plain": [
       "162749    1\n",
       "108180    1\n",
       "185598    1\n",
       "142106    1\n",
       "135980    1\n",
       "24713     1\n",
       "286025    1\n",
       "339372    1\n",
       "284701    1\n",
       "140746    1\n",
       "dtype: int32"
      ]
     },
     "execution_count": 243,
     "metadata": {},
     "output_type": "execute_result"
    }
   ],
   "source": [
    "# The 1 here represents normal value and -1 represent Outli\n",
    "pd.Series(prediction).sample(10)"
   ]
  },
  {
   "cell_type": "code",
   "execution_count": 250,
   "id": "b260f0c8",
   "metadata": {},
   "outputs": [
    {
     "data": {
      "text/plain": [
       "3761"
      ]
     },
     "execution_count": 250,
     "metadata": {},
     "output_type": "execute_result"
    }
   ],
   "source": [
    "len(anomalies)"
   ]
  },
  {
   "cell_type": "code",
   "execution_count": 246,
   "id": "438b9813",
   "metadata": {},
   "outputs": [],
   "source": [
    "condition = np.where(prediction<0)\n",
    "anomalies = principal_df.iloc[condition[0]]\n",
    "Normal = principal_df.iloc[~condition[0]]"
   ]
  },
  {
   "cell_type": "code",
   "execution_count": 249,
   "id": "72013036",
   "metadata": {},
   "outputs": [
    {
     "data": {
      "text/html": [
       "<div>\n",
       "<style scoped>\n",
       "    .dataframe tbody tr th:only-of-type {\n",
       "        vertical-align: middle;\n",
       "    }\n",
       "\n",
       "    .dataframe tbody tr th {\n",
       "        vertical-align: top;\n",
       "    }\n",
       "\n",
       "    .dataframe thead th {\n",
       "        text-align: right;\n",
       "    }\n",
       "</style>\n",
       "<table border=\"1\" class=\"dataframe\">\n",
       "  <thead>\n",
       "    <tr style=\"text-align: right;\">\n",
       "      <th></th>\n",
       "      <th>PC1</th>\n",
       "      <th>PC2</th>\n",
       "      <th>PC3</th>\n",
       "      <th>time</th>\n",
       "    </tr>\n",
       "  </thead>\n",
       "  <tbody>\n",
       "    <tr>\n",
       "      <th>5245</th>\n",
       "      <td>1.077430</td>\n",
       "      <td>0.077269</td>\n",
       "      <td>2.122255</td>\n",
       "      <td>2017-01-19 05:05:00</td>\n",
       "    </tr>\n",
       "    <tr>\n",
       "      <th>5246</th>\n",
       "      <td>0.979055</td>\n",
       "      <td>-0.022250</td>\n",
       "      <td>2.121093</td>\n",
       "      <td>2017-01-19 05:10:00</td>\n",
       "    </tr>\n",
       "    <tr>\n",
       "      <th>5247</th>\n",
       "      <td>0.799120</td>\n",
       "      <td>-0.065272</td>\n",
       "      <td>2.185950</td>\n",
       "      <td>2017-01-19 05:15:00</td>\n",
       "    </tr>\n",
       "    <tr>\n",
       "      <th>5248</th>\n",
       "      <td>0.987080</td>\n",
       "      <td>-0.139074</td>\n",
       "      <td>2.057238</td>\n",
       "      <td>2017-01-19 05:20:00</td>\n",
       "    </tr>\n",
       "    <tr>\n",
       "      <th>5249</th>\n",
       "      <td>0.620497</td>\n",
       "      <td>-0.165181</td>\n",
       "      <td>2.214069</td>\n",
       "      <td>2017-01-19 05:25:00</td>\n",
       "    </tr>\n",
       "    <tr>\n",
       "      <th>...</th>\n",
       "      <td>...</td>\n",
       "      <td>...</td>\n",
       "      <td>...</td>\n",
       "      <td>...</td>\n",
       "    </tr>\n",
       "    <tr>\n",
       "      <th>373219</th>\n",
       "      <td>-0.540605</td>\n",
       "      <td>-1.158855</td>\n",
       "      <td>1.683859</td>\n",
       "      <td>2020-07-22 21:20:00</td>\n",
       "    </tr>\n",
       "    <tr>\n",
       "      <th>373220</th>\n",
       "      <td>-0.655494</td>\n",
       "      <td>-1.348185</td>\n",
       "      <td>1.923940</td>\n",
       "      <td>2020-07-22 21:25:00</td>\n",
       "    </tr>\n",
       "    <tr>\n",
       "      <th>373221</th>\n",
       "      <td>-0.829391</td>\n",
       "      <td>-1.029056</td>\n",
       "      <td>1.636364</td>\n",
       "      <td>2020-07-22 21:30:00</td>\n",
       "    </tr>\n",
       "    <tr>\n",
       "      <th>373222</th>\n",
       "      <td>-0.534414</td>\n",
       "      <td>-1.252250</td>\n",
       "      <td>1.879971</td>\n",
       "      <td>2020-07-22 21:35:00</td>\n",
       "    </tr>\n",
       "    <tr>\n",
       "      <th>373807</th>\n",
       "      <td>2.507815</td>\n",
       "      <td>2.251175</td>\n",
       "      <td>0.552502</td>\n",
       "      <td>2020-07-24 22:20:00</td>\n",
       "    </tr>\n",
       "  </tbody>\n",
       "</table>\n",
       "<p>3761 rows × 4 columns</p>\n",
       "</div>"
      ],
      "text/plain": [
       "             PC1       PC2       PC3                time\n",
       "5245    1.077430  0.077269  2.122255 2017-01-19 05:05:00\n",
       "5246    0.979055 -0.022250  2.121093 2017-01-19 05:10:00\n",
       "5247    0.799120 -0.065272  2.185950 2017-01-19 05:15:00\n",
       "5248    0.987080 -0.139074  2.057238 2017-01-19 05:20:00\n",
       "5249    0.620497 -0.165181  2.214069 2017-01-19 05:25:00\n",
       "...          ...       ...       ...                 ...\n",
       "373219 -0.540605 -1.158855  1.683859 2020-07-22 21:20:00\n",
       "373220 -0.655494 -1.348185  1.923940 2020-07-22 21:25:00\n",
       "373221 -0.829391 -1.029056  1.636364 2020-07-22 21:30:00\n",
       "373222 -0.534414 -1.252250  1.879971 2020-07-22 21:35:00\n",
       "373807  2.507815  2.251175  0.552502 2020-07-24 22:20:00\n",
       "\n",
       "[3761 rows x 4 columns]"
      ]
     },
     "execution_count": 249,
     "metadata": {},
     "output_type": "execute_result"
    }
   ],
   "source": [
    "anomalies"
   ]
  },
  {
   "cell_type": "code",
   "execution_count": 247,
   "id": "8066dd26",
   "metadata": {},
   "outputs": [
    {
     "data": {
      "image/png": "[encoded data removed]",
      "text/plain": [
       "<Figure size 432x288 with 1 Axes>"
      ]
     },
     "metadata": {
      "needs_background": "light"
     },
     "output_type": "display_data"
    }
   ],
   "source": [
    "fig = plt.figure()\n",
    "ax = plt.axes(projection='3d')\n",
    "\n",
    "# Create the scatter plot\n",
    "scatter = ax.scatter3D(Normal[\"PC1\"], Normal[\"PC2\"], Normal[\"PC3\"], c=\"blue\", )\n",
    "scatter = ax.scatter3D(anomalies[\"PC1\"],anomalies[\"PC2\"],anomalies[\"PC3\"], c=\"red\")\n",
    "\n",
    "# # Set the desired view by modifying the azimuth and elevation angles\n",
    "# azimuth = 270 # Rotation around the z-axis (in degrees)\n",
    "# elevation = 90  # Rotation above/below the xy-plane (in degrees)\n",
    "# ax.view_init(elevation, azimuth)\n",
    "\n",
    "# Set labels and title\n",
    "ax.set_xlabel('PC1')\n",
    "ax.set_ylabel('PC2')\n",
    "ax.set_zlabel('PC3')\n",
    "ax.set_title('3D Scatter Plot')\n",
    "\n",
    "\n",
    "# Show the plot\n",
    "plt.show()"
   ]
  },
  {
   "cell_type": "markdown",
   "id": "b1370e85",
   "metadata": {},
   "source": [
    "##### DBSCAN"
   ]
  },
  {
   "cell_type": "code",
   "execution_count": 172,
   "id": "2eaf9f2b",
   "metadata": {
    "scrolled": true
   },
   "outputs": [
    {
     "ename": "MemoryError",
     "evalue": "",
     "output_type": "error",
     "traceback": [
      "\u001b[1;31m---------------------------------------------------------------------------\u001b[0m",
      "\u001b[1;31mMemoryError\u001b[0m                               Traceback (most recent call last)",
      "\u001b[1;32m<ipython-input-172-ba44166745ca>\u001b[0m in \u001b[0;36m<module>\u001b[1;34m\u001b[0m\n\u001b[0;32m     16\u001b[0m \u001b[1;33m\u001b[0m\u001b[0m\n\u001b[0;32m     17\u001b[0m \u001b[1;31m# Fitting the model\u001b[0m\u001b[1;33m\u001b[0m\u001b[1;33m\u001b[0m\u001b[1;33m\u001b[0m\u001b[0m\n\u001b[1;32m---> 18\u001b[1;33m \u001b[0mmodel\u001b[0m\u001b[1;33m.\u001b[0m\u001b[0mfit\u001b[0m\u001b[1;33m(\u001b[0m\u001b[0mDBSCANdata\u001b[0m\u001b[1;33m)\u001b[0m\u001b[1;33m\u001b[0m\u001b[1;33m\u001b[0m\u001b[0m\n\u001b[0m\u001b[0;32m     19\u001b[0m \u001b[1;33m\u001b[0m\u001b[0m\n\u001b[0;32m     20\u001b[0m \u001b[1;31m# Getting outliers\u001b[0m\u001b[1;33m\u001b[0m\u001b[1;33m\u001b[0m\u001b[1;33m\u001b[0m\u001b[0m\n",
      "\u001b[1;32m~\\anaconda3\\envs\\myenv\\lib\\site-packages\\sklearn\\cluster\\_dbscan.py\u001b[0m in \u001b[0;36mfit\u001b[1;34m(self, X, y, sample_weight)\u001b[0m\n\u001b[0;32m    333\u001b[0m         \u001b[1;31m# This has worst case O(n^2) memory complexity\u001b[0m\u001b[1;33m\u001b[0m\u001b[1;33m\u001b[0m\u001b[1;33m\u001b[0m\u001b[0m\n\u001b[0;32m    334\u001b[0m         neighborhoods = neighbors_model.radius_neighbors(X,\n\u001b[1;32m--> 335\u001b[1;33m                                                          return_distance=False)\n\u001b[0m\u001b[0;32m    336\u001b[0m \u001b[1;33m\u001b[0m\u001b[0m\n\u001b[0;32m    337\u001b[0m         \u001b[1;32mif\u001b[0m \u001b[0msample_weight\u001b[0m \u001b[1;32mis\u001b[0m \u001b[1;32mNone\u001b[0m\u001b[1;33m:\u001b[0m\u001b[1;33m\u001b[0m\u001b[1;33m\u001b[0m\u001b[0m\n",
      "\u001b[1;32m~\\anaconda3\\envs\\myenv\\lib\\site-packages\\sklearn\\neighbors\\_base.py\u001b[0m in \u001b[0;36mradius_neighbors\u001b[1;34m(self, X, radius, return_distance, sort_results)\u001b[0m\n\u001b[0;32m   1051\u001b[0m                               sort_results=sort_results)\n\u001b[0;32m   1052\u001b[0m \u001b[1;33m\u001b[0m\u001b[0m\n\u001b[1;32m-> 1053\u001b[1;33m                 \u001b[1;32mfor\u001b[0m \u001b[0ms\u001b[0m \u001b[1;32min\u001b[0m \u001b[0mgen_even_slices\u001b[0m\u001b[1;33m(\u001b[0m\u001b[0mX\u001b[0m\u001b[1;33m.\u001b[0m\u001b[0mshape\u001b[0m\u001b[1;33m[\u001b[0m\u001b[1;36m0\u001b[0m\u001b[1;33m]\u001b[0m\u001b[1;33m,\u001b[0m \u001b[0mn_jobs\u001b[0m\u001b[1;33m)\u001b[0m\u001b[1;33m\u001b[0m\u001b[1;33m\u001b[0m\u001b[0m\n\u001b[0m\u001b[0;32m   1054\u001b[0m             )\n\u001b[0;32m   1055\u001b[0m             \u001b[1;32mif\u001b[0m \u001b[0mreturn_distance\u001b[0m\u001b[1;33m:\u001b[0m\u001b[1;33m\u001b[0m\u001b[1;33m\u001b[0m\u001b[0m\n",
      "\u001b[1;32m~\\anaconda3\\envs\\myenv\\lib\\site-packages\\joblib\\parallel.py\u001b[0m in \u001b[0;36m__call__\u001b[1;34m(self, iterable)\u001b[0m\n\u001b[0;32m   1052\u001b[0m \u001b[1;33m\u001b[0m\u001b[0m\n\u001b[0;32m   1053\u001b[0m             \u001b[1;32mwith\u001b[0m \u001b[0mself\u001b[0m\u001b[1;33m.\u001b[0m\u001b[0m_backend\u001b[0m\u001b[1;33m.\u001b[0m\u001b[0mretrieval_context\u001b[0m\u001b[1;33m(\u001b[0m\u001b[1;33m)\u001b[0m\u001b[1;33m:\u001b[0m\u001b[1;33m\u001b[0m\u001b[1;33m\u001b[0m\u001b[0m\n\u001b[1;32m-> 1054\u001b[1;33m                 \u001b[0mself\u001b[0m\u001b[1;33m.\u001b[0m\u001b[0mretrieve\u001b[0m\u001b[1;33m(\u001b[0m\u001b[1;33m)\u001b[0m\u001b[1;33m\u001b[0m\u001b[1;33m\u001b[0m\u001b[0m\n\u001b[0m\u001b[0;32m   1055\u001b[0m             \u001b[1;31m# Make sure that we get a last message telling us we are done\u001b[0m\u001b[1;33m\u001b[0m\u001b[1;33m\u001b[0m\u001b[1;33m\u001b[0m\u001b[0m\n\u001b[0;32m   1056\u001b[0m             \u001b[0melapsed_time\u001b[0m \u001b[1;33m=\u001b[0m \u001b[0mtime\u001b[0m\u001b[1;33m.\u001b[0m\u001b[0mtime\u001b[0m\u001b[1;33m(\u001b[0m\u001b[1;33m)\u001b[0m \u001b[1;33m-\u001b[0m \u001b[0mself\u001b[0m\u001b[1;33m.\u001b[0m\u001b[0m_start_time\u001b[0m\u001b[1;33m\u001b[0m\u001b[1;33m\u001b[0m\u001b[0m\n",
      "\u001b[1;32m~\\anaconda3\\envs\\myenv\\lib\\site-packages\\joblib\\parallel.py\u001b[0m in \u001b[0;36mretrieve\u001b[1;34m(self)\u001b[0m\n\u001b[0;32m    931\u001b[0m             \u001b[1;32mtry\u001b[0m\u001b[1;33m:\u001b[0m\u001b[1;33m\u001b[0m\u001b[1;33m\u001b[0m\u001b[0m\n\u001b[0;32m    932\u001b[0m                 \u001b[1;32mif\u001b[0m \u001b[0mgetattr\u001b[0m\u001b[1;33m(\u001b[0m\u001b[0mself\u001b[0m\u001b[1;33m.\u001b[0m\u001b[0m_backend\u001b[0m\u001b[1;33m,\u001b[0m \u001b[1;34m'supports_timeout'\u001b[0m\u001b[1;33m,\u001b[0m \u001b[1;32mFalse\u001b[0m\u001b[1;33m)\u001b[0m\u001b[1;33m:\u001b[0m\u001b[1;33m\u001b[0m\u001b[1;33m\u001b[0m\u001b[0m\n\u001b[1;32m--> 933\u001b[1;33m                     \u001b[0mself\u001b[0m\u001b[1;33m.\u001b[0m\u001b[0m_output\u001b[0m\u001b[1;33m.\u001b[0m\u001b[0mextend\u001b[0m\u001b[1;33m(\u001b[0m\u001b[0mjob\u001b[0m\u001b[1;33m.\u001b[0m\u001b[0mget\u001b[0m\u001b[1;33m(\u001b[0m\u001b[0mtimeout\u001b[0m\u001b[1;33m=\u001b[0m\u001b[0mself\u001b[0m\u001b[1;33m.\u001b[0m\u001b[0mtimeout\u001b[0m\u001b[1;33m)\u001b[0m\u001b[1;33m)\u001b[0m\u001b[1;33m\u001b[0m\u001b[1;33m\u001b[0m\u001b[0m\n\u001b[0m\u001b[0;32m    934\u001b[0m                 \u001b[1;32melse\u001b[0m\u001b[1;33m:\u001b[0m\u001b[1;33m\u001b[0m\u001b[1;33m\u001b[0m\u001b[0m\n\u001b[0;32m    935\u001b[0m                     \u001b[0mself\u001b[0m\u001b[1;33m.\u001b[0m\u001b[0m_output\u001b[0m\u001b[1;33m.\u001b[0m\u001b[0mextend\u001b[0m\u001b[1;33m(\u001b[0m\u001b[0mjob\u001b[0m\u001b[1;33m.\u001b[0m\u001b[0mget\u001b[0m\u001b[1;33m(\u001b[0m\u001b[1;33m)\u001b[0m\u001b[1;33m)\u001b[0m\u001b[1;33m\u001b[0m\u001b[1;33m\u001b[0m\u001b[0m\n",
      "\u001b[1;32m~\\anaconda3\\envs\\myenv\\lib\\multiprocessing\\pool.py\u001b[0m in \u001b[0;36mget\u001b[1;34m(self, timeout)\u001b[0m\n\u001b[0;32m    642\u001b[0m             \u001b[1;32mreturn\u001b[0m \u001b[0mself\u001b[0m\u001b[1;33m.\u001b[0m\u001b[0m_value\u001b[0m\u001b[1;33m\u001b[0m\u001b[1;33m\u001b[0m\u001b[0m\n\u001b[0;32m    643\u001b[0m         \u001b[1;32melse\u001b[0m\u001b[1;33m:\u001b[0m\u001b[1;33m\u001b[0m\u001b[1;33m\u001b[0m\u001b[0m\n\u001b[1;32m--> 644\u001b[1;33m             \u001b[1;32mraise\u001b[0m \u001b[0mself\u001b[0m\u001b[1;33m.\u001b[0m\u001b[0m_value\u001b[0m\u001b[1;33m\u001b[0m\u001b[1;33m\u001b[0m\u001b[0m\n\u001b[0m\u001b[0;32m    645\u001b[0m \u001b[1;33m\u001b[0m\u001b[0m\n\u001b[0;32m    646\u001b[0m     \u001b[1;32mdef\u001b[0m \u001b[0m_set\u001b[0m\u001b[1;33m(\u001b[0m\u001b[0mself\u001b[0m\u001b[1;33m,\u001b[0m \u001b[0mi\u001b[0m\u001b[1;33m,\u001b[0m \u001b[0mobj\u001b[0m\u001b[1;33m)\u001b[0m\u001b[1;33m:\u001b[0m\u001b[1;33m\u001b[0m\u001b[1;33m\u001b[0m\u001b[0m\n",
      "\u001b[1;32m~\\anaconda3\\envs\\myenv\\lib\\multiprocessing\\pool.py\u001b[0m in \u001b[0;36mworker\u001b[1;34m(inqueue, outqueue, initializer, initargs, maxtasks, wrap_exception)\u001b[0m\n\u001b[0;32m    117\u001b[0m         \u001b[0mjob\u001b[0m\u001b[1;33m,\u001b[0m \u001b[0mi\u001b[0m\u001b[1;33m,\u001b[0m \u001b[0mfunc\u001b[0m\u001b[1;33m,\u001b[0m \u001b[0margs\u001b[0m\u001b[1;33m,\u001b[0m \u001b[0mkwds\u001b[0m \u001b[1;33m=\u001b[0m \u001b[0mtask\u001b[0m\u001b[1;33m\u001b[0m\u001b[1;33m\u001b[0m\u001b[0m\n\u001b[0;32m    118\u001b[0m         \u001b[1;32mtry\u001b[0m\u001b[1;33m:\u001b[0m\u001b[1;33m\u001b[0m\u001b[1;33m\u001b[0m\u001b[0m\n\u001b[1;32m--> 119\u001b[1;33m             \u001b[0mresult\u001b[0m \u001b[1;33m=\u001b[0m \u001b[1;33m(\u001b[0m\u001b[1;32mTrue\u001b[0m\u001b[1;33m,\u001b[0m \u001b[0mfunc\u001b[0m\u001b[1;33m(\u001b[0m\u001b[1;33m*\u001b[0m\u001b[0margs\u001b[0m\u001b[1;33m,\u001b[0m \u001b[1;33m**\u001b[0m\u001b[0mkwds\u001b[0m\u001b[1;33m)\u001b[0m\u001b[1;33m)\u001b[0m\u001b[1;33m\u001b[0m\u001b[1;33m\u001b[0m\u001b[0m\n\u001b[0m\u001b[0;32m    120\u001b[0m         \u001b[1;32mexcept\u001b[0m \u001b[0mException\u001b[0m \u001b[1;32mas\u001b[0m \u001b[0me\u001b[0m\u001b[1;33m:\u001b[0m\u001b[1;33m\u001b[0m\u001b[1;33m\u001b[0m\u001b[0m\n\u001b[0;32m    121\u001b[0m             \u001b[1;32mif\u001b[0m \u001b[0mwrap_exception\u001b[0m \u001b[1;32mand\u001b[0m \u001b[0mfunc\u001b[0m \u001b[1;32mis\u001b[0m \u001b[1;32mnot\u001b[0m \u001b[0m_helper_reraises_exception\u001b[0m\u001b[1;33m:\u001b[0m\u001b[1;33m\u001b[0m\u001b[1;33m\u001b[0m\u001b[0m\n",
      "\u001b[1;32m~\\anaconda3\\envs\\myenv\\lib\\site-packages\\joblib\\_parallel_backends.py\u001b[0m in \u001b[0;36m__call__\u001b[1;34m(self, *args, **kwargs)\u001b[0m\n\u001b[0;32m    593\u001b[0m     \u001b[1;32mdef\u001b[0m \u001b[0m__call__\u001b[0m\u001b[1;33m(\u001b[0m\u001b[0mself\u001b[0m\u001b[1;33m,\u001b[0m \u001b[1;33m*\u001b[0m\u001b[0margs\u001b[0m\u001b[1;33m,\u001b[0m \u001b[1;33m**\u001b[0m\u001b[0mkwargs\u001b[0m\u001b[1;33m)\u001b[0m\u001b[1;33m:\u001b[0m\u001b[1;33m\u001b[0m\u001b[1;33m\u001b[0m\u001b[0m\n\u001b[0;32m    594\u001b[0m         \u001b[1;32mtry\u001b[0m\u001b[1;33m:\u001b[0m\u001b[1;33m\u001b[0m\u001b[1;33m\u001b[0m\u001b[0m\n\u001b[1;32m--> 595\u001b[1;33m             \u001b[1;32mreturn\u001b[0m \u001b[0mself\u001b[0m\u001b[1;33m.\u001b[0m\u001b[0mfunc\u001b[0m\u001b[1;33m(\u001b[0m\u001b[1;33m*\u001b[0m\u001b[0margs\u001b[0m\u001b[1;33m,\u001b[0m \u001b[1;33m**\u001b[0m\u001b[0mkwargs\u001b[0m\u001b[1;33m)\u001b[0m\u001b[1;33m\u001b[0m\u001b[1;33m\u001b[0m\u001b[0m\n\u001b[0m\u001b[0;32m    596\u001b[0m         \u001b[1;32mexcept\u001b[0m \u001b[0mKeyboardInterrupt\u001b[0m \u001b[1;32mas\u001b[0m \u001b[0me\u001b[0m\u001b[1;33m:\u001b[0m\u001b[1;33m\u001b[0m\u001b[1;33m\u001b[0m\u001b[0m\n\u001b[0;32m    597\u001b[0m             \u001b[1;31m# We capture the KeyboardInterrupt and reraise it as\u001b[0m\u001b[1;33m\u001b[0m\u001b[1;33m\u001b[0m\u001b[1;33m\u001b[0m\u001b[0m\n",
      "\u001b[1;32m~\\anaconda3\\envs\\myenv\\lib\\site-packages\\joblib\\parallel.py\u001b[0m in \u001b[0;36m__call__\u001b[1;34m(self)\u001b[0m\n\u001b[0;32m    261\u001b[0m         \u001b[1;32mwith\u001b[0m \u001b[0mparallel_backend\u001b[0m\u001b[1;33m(\u001b[0m\u001b[0mself\u001b[0m\u001b[1;33m.\u001b[0m\u001b[0m_backend\u001b[0m\u001b[1;33m,\u001b[0m \u001b[0mn_jobs\u001b[0m\u001b[1;33m=\u001b[0m\u001b[0mself\u001b[0m\u001b[1;33m.\u001b[0m\u001b[0m_n_jobs\u001b[0m\u001b[1;33m)\u001b[0m\u001b[1;33m:\u001b[0m\u001b[1;33m\u001b[0m\u001b[1;33m\u001b[0m\u001b[0m\n\u001b[0;32m    262\u001b[0m             return [func(*args, **kwargs)\n\u001b[1;32m--> 263\u001b[1;33m                     for func, args, kwargs in self.items]\n\u001b[0m\u001b[0;32m    264\u001b[0m \u001b[1;33m\u001b[0m\u001b[0m\n\u001b[0;32m    265\u001b[0m     \u001b[1;32mdef\u001b[0m \u001b[0m__reduce__\u001b[0m\u001b[1;33m(\u001b[0m\u001b[0mself\u001b[0m\u001b[1;33m)\u001b[0m\u001b[1;33m:\u001b[0m\u001b[1;33m\u001b[0m\u001b[1;33m\u001b[0m\u001b[0m\n",
      "\u001b[1;32m~\\anaconda3\\envs\\myenv\\lib\\site-packages\\joblib\\parallel.py\u001b[0m in \u001b[0;36m<listcomp>\u001b[1;34m(.0)\u001b[0m\n\u001b[0;32m    261\u001b[0m         \u001b[1;32mwith\u001b[0m \u001b[0mparallel_backend\u001b[0m\u001b[1;33m(\u001b[0m\u001b[0mself\u001b[0m\u001b[1;33m.\u001b[0m\u001b[0m_backend\u001b[0m\u001b[1;33m,\u001b[0m \u001b[0mn_jobs\u001b[0m\u001b[1;33m=\u001b[0m\u001b[0mself\u001b[0m\u001b[1;33m.\u001b[0m\u001b[0m_n_jobs\u001b[0m\u001b[1;33m)\u001b[0m\u001b[1;33m:\u001b[0m\u001b[1;33m\u001b[0m\u001b[1;33m\u001b[0m\u001b[0m\n\u001b[0;32m    262\u001b[0m             return [func(*args, **kwargs)\n\u001b[1;32m--> 263\u001b[1;33m                     for func, args, kwargs in self.items]\n\u001b[0m\u001b[0;32m    264\u001b[0m \u001b[1;33m\u001b[0m\u001b[0m\n\u001b[0;32m    265\u001b[0m     \u001b[1;32mdef\u001b[0m \u001b[0m__reduce__\u001b[0m\u001b[1;33m(\u001b[0m\u001b[0mself\u001b[0m\u001b[1;33m)\u001b[0m\u001b[1;33m:\u001b[0m\u001b[1;33m\u001b[0m\u001b[1;33m\u001b[0m\u001b[0m\n",
      "\u001b[1;32m~\\anaconda3\\envs\\myenv\\lib\\site-packages\\sklearn\\utils\\fixes.py\u001b[0m in \u001b[0;36m__call__\u001b[1;34m(self, *args, **kwargs)\u001b[0m\n\u001b[0;32m    220\u001b[0m     \u001b[1;32mdef\u001b[0m \u001b[0m__call__\u001b[0m\u001b[1;33m(\u001b[0m\u001b[0mself\u001b[0m\u001b[1;33m,\u001b[0m \u001b[1;33m*\u001b[0m\u001b[0margs\u001b[0m\u001b[1;33m,\u001b[0m \u001b[1;33m**\u001b[0m\u001b[0mkwargs\u001b[0m\u001b[1;33m)\u001b[0m\u001b[1;33m:\u001b[0m\u001b[1;33m\u001b[0m\u001b[1;33m\u001b[0m\u001b[0m\n\u001b[0;32m    221\u001b[0m         \u001b[1;32mwith\u001b[0m \u001b[0mconfig_context\u001b[0m\u001b[1;33m(\u001b[0m\u001b[1;33m**\u001b[0m\u001b[0mself\u001b[0m\u001b[1;33m.\u001b[0m\u001b[0mconfig\u001b[0m\u001b[1;33m)\u001b[0m\u001b[1;33m:\u001b[0m\u001b[1;33m\u001b[0m\u001b[1;33m\u001b[0m\u001b[0m\n\u001b[1;32m--> 222\u001b[1;33m             \u001b[1;32mreturn\u001b[0m \u001b[0mself\u001b[0m\u001b[1;33m.\u001b[0m\u001b[0mfunction\u001b[0m\u001b[1;33m(\u001b[0m\u001b[1;33m*\u001b[0m\u001b[0margs\u001b[0m\u001b[1;33m,\u001b[0m \u001b[1;33m**\u001b[0m\u001b[0mkwargs\u001b[0m\u001b[1;33m)\u001b[0m\u001b[1;33m\u001b[0m\u001b[1;33m\u001b[0m\u001b[0m\n\u001b[0m",
      "\u001b[1;32m~\\anaconda3\\envs\\myenv\\lib\\site-packages\\sklearn\\neighbors\\_base.py\u001b[0m in \u001b[0;36m_tree_query_radius_parallel_helper\u001b[1;34m(tree, *args, **kwargs)\u001b[0m\n\u001b[0;32m    853\u001b[0m     \u001b[0mcloudpickle\u001b[0m \u001b[0munder\u001b[0m \u001b[0mPyPy\u001b[0m\u001b[1;33m.\u001b[0m\u001b[1;33m\u001b[0m\u001b[1;33m\u001b[0m\u001b[0m\n\u001b[0;32m    854\u001b[0m     \"\"\"\n\u001b[1;32m--> 855\u001b[1;33m     \u001b[1;32mreturn\u001b[0m \u001b[0mtree\u001b[0m\u001b[1;33m.\u001b[0m\u001b[0mquery_radius\u001b[0m\u001b[1;33m(\u001b[0m\u001b[1;33m*\u001b[0m\u001b[0margs\u001b[0m\u001b[1;33m,\u001b[0m \u001b[1;33m**\u001b[0m\u001b[0mkwargs\u001b[0m\u001b[1;33m)\u001b[0m\u001b[1;33m\u001b[0m\u001b[1;33m\u001b[0m\u001b[0m\n\u001b[0m\u001b[0;32m    856\u001b[0m \u001b[1;33m\u001b[0m\u001b[0m\n\u001b[0;32m    857\u001b[0m \u001b[1;33m\u001b[0m\u001b[0m\n",
      "\u001b[1;32msklearn\\neighbors\\_binary_tree.pxi\u001b[0m in \u001b[0;36msklearn.neighbors._kd_tree.BinaryTree.query_radius\u001b[1;34m()\u001b[0m\n",
      "\u001b[1;32msklearn\\neighbors\\_binary_tree.pxi\u001b[0m in \u001b[0;36msklearn.neighbors._kd_tree.BinaryTree.query_radius\u001b[1;34m()\u001b[0m\n",
      "\u001b[1;31mMemoryError\u001b[0m: "
     ]
    }
   ],
   "source": [
    "from sklearn.cluster import DBSCAN\n",
    "from sklearn.neighbors import NearestNeighbors\n",
    "\n",
    "\n",
    "# Setting time as index\n",
    "DBSCANdata = principal_df.drop(columns =['time'])\n",
    "\n",
    "neighbors = NearestNeighbors(n_neighbors=10, metric='euclidean')\n",
    "neighbors.fit(DBSCANdata)\n",
    "distances, indices = neighbors.kneighbors(DBSCANdata)\n",
    "\n",
    "eps = 0.5\n",
    "\n",
    "# Creating a model\n",
    "model =  DBSCAN(eps=eps, algorithm='kd_tree', n_jobs=-1)\n",
    "\n",
    "# Fitting the model\n",
    "model.fit(DBSCANdata)\n",
    "\n",
    "# Getting outliers\n",
    "prediction = model.fit_predict(DBSCANdata)"
   ]
  },
  {
   "cell_type": "code",
   "execution_count": null,
   "id": "413f2b36",
   "metadata": {},
   "outputs": [],
   "source": [
    "condition = np.where(prediction<0)\n",
    "anomalies = principal_df.iloc[condition[0]]\n",
    "Normal = principal_df.iloc[~condition[0]]"
   ]
  },
  {
   "cell_type": "markdown",
   "id": "58b7e4bd",
   "metadata": {},
   "source": [
    "### KNN"
   ]
  },
  {
   "cell_type": "code",
   "execution_count": 253,
   "id": "905fcb8a",
   "metadata": {},
   "outputs": [
    {
     "data": {
      "text/plain": [
       "[<matplotlib.lines.Line2D at 0x16d92331dd8>]"
      ]
     },
     "execution_count": 253,
     "metadata": {},
     "output_type": "execute_result"
    },
    {
     "data": {
      "image/png": "[encoded data removed]",
      "text/plain": [
       "<Figure size 432x288 with 1 Axes>"
      ]
     },
     "metadata": {
      "needs_background": "light"
     },
     "output_type": "display_data"
    }
   ],
   "source": [
    "# Setting time as index\n",
    "KNNdata = principal_df.drop(columns =['time'])\n",
    "\n",
    "neighbors = NearestNeighbors(n_neighbors=10, metric='euclidean')\n",
    "neighbors.fit(KNNdata)\n",
    "\n",
    "# distances and indexes of k-neaighbors from model outputs\n",
    "distances, indices = neighbors.kneighbors(KNNdata)\n",
    "\n",
    "# plot mean of k-distances of each observation\n",
    "plt.plot(distances.mean(axis =1))"
   ]
  },
  {
   "cell_type": "code",
   "execution_count": 254,
   "id": "79c79a5e",
   "metadata": {},
   "outputs": [],
   "source": [
    "SeriesMeanDist = pd.Series(distances.mean(axis=1))"
   ]
  },
  {
   "cell_type": "code",
   "execution_count": 255,
   "id": "c60b1274",
   "metadata": {},
   "outputs": [
    {
     "data": {
      "text/plain": [
       "count    376124.000000\n",
       "mean          0.012393\n",
       "std           0.018235\n",
       "min           0.000000\n",
       "25%           0.006264\n",
       "50%           0.008303\n",
       "75%           0.012445\n",
       "max           1.603180\n",
       "dtype: float64"
      ]
     },
     "execution_count": 255,
     "metadata": {},
     "output_type": "execute_result"
    }
   ],
   "source": [
    "pd.Series(distances.mean(axis=1)).describe()"
   ]
  },
  {
   "cell_type": "code",
   "execution_count": 256,
   "id": "b313d775",
   "metadata": {},
   "outputs": [],
   "source": [
    "threshold = np.percentile(SeriesMeanDist, 99)"
   ]
  },
  {
   "cell_type": "code",
   "execution_count": 257,
   "id": "056230ef",
   "metadata": {},
   "outputs": [
    {
     "data": {
      "text/plain": [
       "0.08347668221117667"
      ]
     },
     "execution_count": 257,
     "metadata": {},
     "output_type": "execute_result"
    }
   ],
   "source": [
    "threshold"
   ]
  },
  {
   "cell_type": "code",
   "execution_count": 258,
   "id": "8ea9b01d",
   "metadata": {},
   "outputs": [],
   "source": [
    "condition = np.where(distances.mean(axis = 1) > threshold)\n",
    "anomalies = principal_df.iloc[condition[0]]\n",
    "Normal = principal_df.iloc[~condition[0]]"
   ]
  },
  {
   "cell_type": "code",
   "execution_count": 259,
   "id": "e417ed8b",
   "metadata": {},
   "outputs": [
    {
     "data": {
      "text/html": [
       "<div>\n",
       "<style scoped>\n",
       "    .dataframe tbody tr th:only-of-type {\n",
       "        vertical-align: middle;\n",
       "    }\n",
       "\n",
       "    .dataframe tbody tr th {\n",
       "        vertical-align: top;\n",
       "    }\n",
       "\n",
       "    .dataframe thead th {\n",
       "        text-align: right;\n",
       "    }\n",
       "</style>\n",
       "<table border=\"1\" class=\"dataframe\">\n",
       "  <thead>\n",
       "    <tr style=\"text-align: right;\">\n",
       "      <th></th>\n",
       "      <th>PC1</th>\n",
       "      <th>PC2</th>\n",
       "      <th>PC3</th>\n",
       "      <th>time</th>\n",
       "    </tr>\n",
       "  </thead>\n",
       "  <tbody>\n",
       "    <tr>\n",
       "      <th>5240</th>\n",
       "      <td>1.010103</td>\n",
       "      <td>2.100585</td>\n",
       "      <td>-0.143689</td>\n",
       "      <td>2017-01-19 04:40:00</td>\n",
       "    </tr>\n",
       "    <tr>\n",
       "      <th>5241</th>\n",
       "      <td>0.612814</td>\n",
       "      <td>2.191640</td>\n",
       "      <td>-0.152008</td>\n",
       "      <td>2017-01-19 04:45:00</td>\n",
       "    </tr>\n",
       "    <tr>\n",
       "      <th>5242</th>\n",
       "      <td>0.365390</td>\n",
       "      <td>2.186505</td>\n",
       "      <td>-0.109429</td>\n",
       "      <td>2017-01-19 04:50:00</td>\n",
       "    </tr>\n",
       "    <tr>\n",
       "      <th>5245</th>\n",
       "      <td>1.077430</td>\n",
       "      <td>0.077269</td>\n",
       "      <td>2.122255</td>\n",
       "      <td>2017-01-19 05:05:00</td>\n",
       "    </tr>\n",
       "    <tr>\n",
       "      <th>5246</th>\n",
       "      <td>0.979055</td>\n",
       "      <td>-0.022250</td>\n",
       "      <td>2.121093</td>\n",
       "      <td>2017-01-19 05:10:00</td>\n",
       "    </tr>\n",
       "    <tr>\n",
       "      <th>...</th>\n",
       "      <td>...</td>\n",
       "      <td>...</td>\n",
       "      <td>...</td>\n",
       "      <td>...</td>\n",
       "    </tr>\n",
       "    <tr>\n",
       "      <th>373824</th>\n",
       "      <td>1.045459</td>\n",
       "      <td>1.381252</td>\n",
       "      <td>0.199163</td>\n",
       "      <td>2020-07-24 23:45:00</td>\n",
       "    </tr>\n",
       "    <tr>\n",
       "      <th>373830</th>\n",
       "      <td>0.524866</td>\n",
       "      <td>2.301546</td>\n",
       "      <td>0.219942</td>\n",
       "      <td>2020-07-25 00:15:00</td>\n",
       "    </tr>\n",
       "    <tr>\n",
       "      <th>373831</th>\n",
       "      <td>0.370320</td>\n",
       "      <td>2.238449</td>\n",
       "      <td>0.254506</td>\n",
       "      <td>2020-07-25 00:20:00</td>\n",
       "    </tr>\n",
       "    <tr>\n",
       "      <th>373832</th>\n",
       "      <td>0.380951</td>\n",
       "      <td>2.077471</td>\n",
       "      <td>0.449992</td>\n",
       "      <td>2020-07-25 00:25:00</td>\n",
       "    </tr>\n",
       "    <tr>\n",
       "      <th>373833</th>\n",
       "      <td>0.470529</td>\n",
       "      <td>2.136360</td>\n",
       "      <td>0.260746</td>\n",
       "      <td>2020-07-25 00:30:00</td>\n",
       "    </tr>\n",
       "  </tbody>\n",
       "</table>\n",
       "<p>3762 rows × 4 columns</p>\n",
       "</div>"
      ],
      "text/plain": [
       "             PC1       PC2       PC3                time\n",
       "5240    1.010103  2.100585 -0.143689 2017-01-19 04:40:00\n",
       "5241    0.612814  2.191640 -0.152008 2017-01-19 04:45:00\n",
       "5242    0.365390  2.186505 -0.109429 2017-01-19 04:50:00\n",
       "5245    1.077430  0.077269  2.122255 2017-01-19 05:05:00\n",
       "5246    0.979055 -0.022250  2.121093 2017-01-19 05:10:00\n",
       "...          ...       ...       ...                 ...\n",
       "373824  1.045459  1.381252  0.199163 2020-07-24 23:45:00\n",
       "373830  0.524866  2.301546  0.219942 2020-07-25 00:15:00\n",
       "373831  0.370320  2.238449  0.254506 2020-07-25 00:20:00\n",
       "373832  0.380951  2.077471  0.449992 2020-07-25 00:25:00\n",
       "373833  0.470529  2.136360  0.260746 2020-07-25 00:30:00\n",
       "\n",
       "[3762 rows x 4 columns]"
      ]
     },
     "execution_count": 259,
     "metadata": {},
     "output_type": "execute_result"
    }
   ],
   "source": [
    "anomalies"
   ]
  },
  {
   "cell_type": "code",
   "execution_count": 263,
   "id": "19198bdb",
   "metadata": {},
   "outputs": [
    {
     "data": {
      "image/png": "[encoded data removed]",
      "text/plain": [
       "<Figure size 432x288 with 1 Axes>"
      ]
     },
     "metadata": {
      "needs_background": "light"
     },
     "output_type": "display_data"
    }
   ],
   "source": [
    "fig = plt.figure()\n",
    "ax = plt.axes(projection='3d')\n",
    "\n",
    "# Create the scatter plot\n",
    "scatter = ax.scatter3D(Normal[\"PC1\"], Normal[\"PC2\"], Normal[\"PC3\"], c=\"blue\")\n",
    "scatter = ax.scatter3D(anomalies[\"PC1\"],anomalies[\"PC2\"],anomalies[\"PC3\"], c=\"red\")\n",
    "\n",
    "\n",
    "# Set labels and title\n",
    "ax.set_xlabel('PC1')\n",
    "ax.set_ylabel('PC2')\n",
    "ax.set_zlabel('PC3')\n",
    "ax.set_title('3D Scatter Plot')\n",
    "\n",
    "\n",
    "# Show the plot\n",
    "plt.show()"
   ]
  },
  {
   "cell_type": "markdown",
   "id": "88d009d0",
   "metadata": {},
   "source": [
    "##### Arima\n",
    "* Check whether the data is stationary or not. If the data is not stationary convert the data to stationary.\n",
    "* Fit a time series model to the preprocessed data\n",
    "* Find the Squared Error for each and every observation in the data.\n",
    "* Find the threshold for the errors in the data\n",
    "* If the errors exceed that threshold we can flag that observation as an anomaly\n"
   ]
  }
 ],
 "metadata": {
  "kernelspec": {
   "display_name": "myenv",
   "language": "python",
   "name": "myenv"
  },
  "language_info": {
   "codemirror_mode": {
    "name": "ipython",
    "version": 3
   },
   "file_extension": ".py",
   "mimetype": "text/x-python",
   "name": "python",
   "nbconvert_exporter": "python",
   "pygments_lexer": "ipython3",
   "version": "3.6.13"
  }
 },
 "nbformat": 4,
 "nbformat_minor": 5
}
